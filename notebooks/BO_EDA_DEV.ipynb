{
 "cells": [
  {
   "cell_type": "code",
   "execution_count": null,
   "metadata": {},
   "outputs": [],
   "source": [
    "import numpy as np\n",
    "import pandas as pd\n",
    "from scipy import stats\n",
    "import geopandas as gpd\n",
    "import descartes\n",
    "import matplotlib.pyplot as plt\n",
    "%matplotlib inline\n",
    "import sys\n",
    "sys.path.insert(0, '../src')\n",
    "import fetch\n",
    "import clean"
   ]
  },
  {
   "cell_type": "code",
   "execution_count": null,
   "metadata": {},
   "outputs": [],
   "source": [
    "stop_2014 = fetch.fetch_old(2014)\n",
    "stop_2015 = fetch.fetch_old(2015)\n",
    "stop_2016 = fetch.fetch_old(2016)\n",
    "stop_2017 = fetch.fetch_old(2017)\n",
    "stop_2018 = fetch.fetch_new(2018)\n",
    "stop_2019 = fetch.fetch_new(2019)"
   ]
  },
  {
   "cell_type": "code",
   "execution_count": null,
   "metadata": {},
   "outputs": [],
   "source": [
    "# standardize the columns so that won't get too many NaN cols\n",
    "COLUMNS = [\"stop_id\",\"pid\",\"beat\",\"service_area\",\"stop_cause\"\\\n",
    "    ,\"subject_race\",\"subject_age\",\"subject_sex\",\"arrested\",\\\n",
    "    \"searched\",\"property_seized\",\"contraband_found\",\"date_stop\",\"time_stop\",\"reason_for_stop_explanation\"]\n",
    "\n",
    "stop_2014 = clean.standardize(stop_2014,COLUMNS)\n",
    "stop_2015 = clean.standardize(stop_2015,COLUMNS)\n",
    "stop_2016 = clean.standardize(stop_2016,COLUMNS)\n",
    "stop_2017 = clean.standardize(stop_2017,COLUMNS)\n",
    "stop_2018 = clean.standardize(stop_2018,COLUMNS)\n",
    "stop_2019 = clean.standardize(stop_2019,COLUMNS)\n",
    "\n",
    "# clean the cols\n",
    "for c in clean.old_clean.keys():\n",
    "    stop_2014[c] = stop_2014[c].apply(clean.old_clean[c])\n",
    "    stop_2015[c] = stop_2015[c].apply(clean.old_clean[c])\n",
    "    stop_2016[c] = stop_2016[c].apply(clean.old_clean[c])\n",
    "    stop_2017[c] = stop_2017[c].apply(clean.old_clean[c])\n",
    "for c in clean.new_clean.keys():\n",
    "    stop_2018[c] = stop_2018[c].apply(clean.new_clean[c])\n",
    "    stop_2019[c] = stop_2019[c].apply(clean.new_clean[c])\n",
    "\n",
    "# we first separate the data by before RML and after RML (Nov. 2016)\n",
    "before_2016 = stop_2016[pd.to_datetime(stop_2016.date_stop).dt.month < 11]\n",
    "after_2016 = stop_2016[pd.to_datetime(stop_2016.date_stop).dt.month > 11]\n"
   ]
  },
  {
   "cell_type": "code",
   "execution_count": null,
   "metadata": {},
   "outputs": [],
   "source": [
    "before = pd.concat([stop_2014,stop_2015,before_2016])\n",
    "after = pd.concat([after_2016,stop_2017,stop_2018,stop_2019])\n",
    "total = pd.concat([stop_2014,stop_2015,stop_2016,stop_2017,stop_2018,stop_2019])"
   ]
  },
  {
   "cell_type": "code",
   "execution_count": null,
   "metadata": {},
   "outputs": [],
   "source": [
    "before_dui = clean.filter_to_dui(before)\n",
    "after_dui = clean.filter_to_dui(after)\n",
    "total_dui = clean.filter_to_dui(total)"
   ]
  },
  {
   "cell_type": "markdown",
   "metadata": {},
   "source": [
    "##### the DUI percentage among stop data is increased after RML"
   ]
  },
  {
   "cell_type": "code",
   "execution_count": null,
   "metadata": {},
   "outputs": [],
   "source": [
    "len(before_dui)/len(before)"
   ]
  },
  {
   "cell_type": "code",
   "execution_count": null,
   "metadata": {},
   "outputs": [],
   "source": [
    "len(after_dui)/len(after)"
   ]
  },
  {
   "cell_type": "markdown",
   "metadata": {},
   "source": [
    "##### looking at yearly/monthly trend"
   ]
  },
  {
   "cell_type": "code",
   "execution_count": null,
   "metadata": {},
   "outputs": [],
   "source": [
    "before_dui[\"YEAR\"] = before_dui.date_stop.apply(lambda x:int(x[:4]))\n",
    "after_dui[\"YEAR\"] = after_dui.date_stop.apply(lambda x:int(x[:4]))\n",
    "before_dui['MONTH'] = before_dui.date_stop.apply(lambda x:int(x.split(\"-\")[1]))\n",
    "after_dui['MONTH'] = after_dui.date_stop.apply(lambda x:int(x.split(\"-\")[1]))\n",
    "total_dui[\"YEAR\"] = total_dui.date_stop.apply(lambda x:int(x[:4]))\n",
    "total_dui['MONTH'] = total_dui.date_stop.apply(lambda x:int(x.split(\"-\")[1]))"
   ]
  },
  {
   "cell_type": "code",
   "execution_count": null,
   "metadata": {},
   "outputs": [],
   "source": [
    "total_dui.groupby(\"YEAR\").size().plot()"
   ]
  },
  {
   "cell_type": "code",
   "execution_count": null,
   "metadata": {},
   "outputs": [],
   "source": [
    "total_dui.groupby([\"YEAR\",'MONTH']).size().plot()"
   ]
  },
  {
   "cell_type": "code",
   "execution_count": null,
   "metadata": {},
   "outputs": [],
   "source": [
    "stop_1617 = pd.concat([stop_2016,stop_2017])"
   ]
  },
  {
   "cell_type": "code",
   "execution_count": null,
   "metadata": {},
   "outputs": [],
   "source": [
    "stop_1617['YEAR'] = stop_1617.date_stop.apply(lambda x:int(x[:4]))\n",
    "stop_1617['MONTH'] = stop_1617.date_stop.apply(lambda x:int(x.split(\"-\")[1]))"
   ]
  },
  {
   "cell_type": "code",
   "execution_count": null,
   "metadata": {},
   "outputs": [],
   "source": [
    "(clean.filter_to_dui(stop_1617).groupby(['YEAR','MONTH']).size()/stop_1617.groupby(['YEAR','MONTH']).size()).plot()"
   ]
  },
  {
   "cell_type": "code",
   "execution_count": null,
   "metadata": {},
   "outputs": [],
   "source": [
    "collision = fetch.fetch_collision()"
   ]
  },
  {
   "cell_type": "code",
   "execution_count": null,
   "metadata": {},
   "outputs": [],
   "source": [
    "collision_dui = clean.collision_dui(collision)"
   ]
  },
  {
   "cell_type": "code",
   "execution_count": null,
   "metadata": {},
   "outputs": [],
   "source": [
    "collision_dui['YEAR'] = collision_dui.date_time.apply(lambda x:int(x[:4]))\n",
    "collision_dui['MONTH'] = collision_dui.date_time.apply(lambda x:int(x.split(\"-\")[1]))\n",
    "\n",
    "\n",
    "collision['YEAR'] = collision.date_time.apply(lambda x:int(x[:4]))\n",
    "collision['MONTH'] = collision.date_time.apply(lambda x:int(x.split(\"-\")[1]))\n"
   ]
  },
  {
   "cell_type": "code",
   "execution_count": null,
   "metadata": {},
   "outputs": [],
   "source": [
    "collision_dui.groupby([\"YEAR\",\"MONTH\"]).size().plot()"
   ]
  },
  {
   "cell_type": "code",
   "execution_count": null,
   "metadata": {},
   "outputs": [],
   "source": [
    "(collision_dui.groupby([\"YEAR\",\"MONTH\"]).size()/collision.groupby([\"YEAR\",\"MONTH\"]).size()).plot()"
   ]
  },
  {
   "cell_type": "code",
   "execution_count": null,
   "metadata": {},
   "outputs": [],
   "source": []
  }
 ],
 "metadata": {
  "kernelspec": {
   "display_name": "Python 3",
   "language": "python",
   "name": "python3"
  },
  "language_info": {
   "codemirror_mode": {
    "name": "ipython",
    "version": 3
   },
   "file_extension": ".py",
   "mimetype": "text/x-python",
   "name": "python",
   "nbconvert_exporter": "python",
   "pygments_lexer": "ipython3",
   "version": "3.7.3"
  }
 },
 "nbformat": 4,
 "nbformat_minor": 2
}
